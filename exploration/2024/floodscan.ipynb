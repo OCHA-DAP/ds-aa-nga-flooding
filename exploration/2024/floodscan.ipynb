{
 "cells": [
  {
   "cell_type": "markdown",
   "id": "91b5fde8-99b4-44ab-875c-6af83ed77245",
   "metadata": {},
   "source": [
    "# Floodscan"
   ]
  },
  {
   "cell_type": "code",
   "execution_count": 2,
   "id": "fe558c48-480e-40a7-b160-77393b20daa0",
   "metadata": {},
   "source": [
    "%load_ext jupyter_black\n",
    "%load_ext autoreload\n",
    "%autoreload 2"
   ],
   "outputs": []
  },
  {
   "cell_type": "code",
   "execution_count": 19,
   "id": "0986e07c-5596-432d-996f-23c19f0a2d6d",
   "metadata": {},
   "source": [
    "import pandas as pd\n",
    "import plotly.graph_objects as go\n",
    "import matplotlib.pyplot as plt\n",
    "from adjustText import adjust_text\n",
    "\n",
    "from src.datasources import floodscan, codab, worldpop\n",
    "from src.constants import *"
   ],
   "outputs": []
  },
  {
   "cell_type": "code",
   "execution_count": 4,
   "id": "f55009a9-ecb3-4dd9-b923-361935422d87",
   "metadata": {},
   "source": [
    "# floodscan.clip_nga_from_glb()"
   ],
   "outputs": []
  },
  {
   "cell_type": "code",
   "execution_count": 5,
   "id": "f92f5ec1-47b2-4815-9ab3-793f35cb551c",
   "metadata": {},
   "source": [
    "# floodscan.calculate_exposure_raster()"
   ],
   "outputs": []
  },
  {
   "cell_type": "code",
   "execution_count": 6,
   "id": "7fab3d20-7f3e-4392-ab5d-49e10a6de9f0",
   "metadata": {},
   "source": [
    "# floodscan.calculate_adm2_exposures()"
   ],
   "outputs": []
  },
  {
   "cell_type": "code",
   "execution_count": 7,
   "id": "528464a1-8dff-44dd-98a2-1bd4b3542acd",
   "metadata": {},
   "source": [
    "adm2 = codab.load_codab(admin_level=2)\n",
    "adm2_aoi = adm2[adm2[\"ADM1_PCODE\"].isin(AOI_ADM1_PCODES)]\n",
    "adm1 = codab.load_codab(admin_level=1)\n",
    "adm1_aoi = adm1[adm1[\"ADM1_PCODE\"].isin(AOI_ADM1_PCODES)]"
   ],
   "outputs": []
  },
  {
   "cell_type": "code",
   "execution_count": 8,
   "id": "caf01799-c00e-49c9-85be-176935c67ae7",
   "metadata": {},
   "source": [
    "pop = worldpop.load_raw_worldpop()\n",
    "pop_aoi = pop.rio.clip(adm2_aoi.geometry, all_touched=True)\n",
    "pop_aoi = pop_aoi.where(pop_aoi > 0)"
   ],
   "outputs": []
  },
  {
   "cell_type": "code",
   "execution_count": 9,
   "id": "00ddc4fe-7e18-4214-84f6-a57484d82929",
   "metadata": {},
   "source": [
    "fs_raster = floodscan.load_raw_nga_floodscan()\n",
    "fs_raster = fs_raster.rio.write_crs(4326)\n",
    "fs_aoi = fs_raster.rio.clip(adm2_aoi.geometry, all_touched=True)\n",
    "fs_aoi_year = fs_aoi.groupby(\"time.year\").max()\n",
    "fs_aoi_mean = fs_aoi_year.mean(dim=\"year\")"
   ],
   "outputs": []
  },
  {
   "cell_type": "code",
   "execution_count": 10,
   "id": "2d588fa3-b322-4208-bdee-8645fbbe1631",
   "metadata": {},
   "source": [
    "adm2_pop = worldpop.load_adm2_worldpop()"
   ],
   "outputs": []
  },
  {
   "cell_type": "code",
   "execution_count": 11,
   "id": "c26981f8-ba2e-4e38-b96a-49cb822210a4",
   "metadata": {},
   "source": [
    "adm2_pop"
   ],
   "outputs": []
  },
  {
   "cell_type": "code",
   "execution_count": 12,
   "id": "cc6a5389-2b1c-490e-8ca1-eb6e6fb57e84",
   "metadata": {},
   "source": [
    "exposure = floodscan.load_adm2_flood_exposures()\n",
    "exposure = exposure.merge(adm2_pop, on=\"ADM2_PCODE\")\n",
    "exposure[\"frac_exposed\"] = exposure[\"total_exposed\"] / exposure[\"total_pop\"]"
   ],
   "outputs": []
  },
  {
   "cell_type": "code",
   "execution_count": 13,
   "id": "e25e139a-449b-4b20-9e23-97ec60fd7286",
   "metadata": {},
   "source": [
    "exposure"
   ],
   "outputs": []
  },
  {
   "cell_type": "code",
   "execution_count": 14,
   "id": "bc3fb5e3-1b0e-4757-b7d6-0cbf0f5af1b1",
   "metadata": {},
   "source": [
    "avg_exposure = (\n",
    "    exposure.groupby(\"ADM2_PCODE\").mean().reset_index().drop(columns=[\"year\"])\n",
    ")\n",
    "int_cols = [\"total_exposed\", \"total_pop\"]\n",
    "avg_exposure[int_cols] = avg_exposure[int_cols].astype(int)\n",
    "avg_exposure_plot = adm2.merge(avg_exposure, on=\"ADM2_PCODE\")\n",
    "avg_exposure_plot_aoi = avg_exposure_plot[\n",
    "    avg_exposure_plot[\"ADM1_PCODE\"].isin(AOI_ADM1_PCODES)\n",
    "]"
   ],
   "outputs": []
  },
  {
   "cell_type": "code",
   "execution_count": 15,
   "id": "d33a496d-de01-4b21-963d-9908024b0b8c",
   "metadata": {},
   "source": [
    "avg_exposure_plot_aoi"
   ],
   "outputs": []
  },
  {
   "cell_type": "code",
   "execution_count": 16,
   "id": "caec6b47-fc16-4df4-a3cd-0a63d02aa40e",
   "metadata": {},
   "source": [
    "fig, axs = plt.subplots(nrows=1, ncols=2, figsize=(20, 10))\n",
    "\n",
    "for j, variable in enumerate([\"total_exposed\", \"frac_exposed\"]):\n",
    "    avg_exposure_plot_aoi.plot(\n",
    "        column=variable, ax=axs[j], legend=True, cmap=\"Purples\"\n",
    "    )\n",
    "    # for index, row in (\n",
    "    #     avg_exposure_plot_aoi.sort_values(variable).iloc[-10:].iterrows()\n",
    "    # ):\n",
    "    #     centroid = row[\"geometry\"].centroid\n",
    "\n",
    "    #     axs[j].annotate(\n",
    "    #         row[\"ADM2_EN\"],\n",
    "    #         xy=(centroid.x, centroid.y),\n",
    "    #         xytext=(0, 0),\n",
    "    #         textcoords=\"offset points\",\n",
    "    #         ha=\"center\",\n",
    "    #         va=\"center\",\n",
    "    #     )\n",
    "\n",
    "    adm1_aoi.boundary.plot(ax=axs[j], linewidth=0.5, color=\"k\")\n",
    "    axs[j].axis(\"off\")\n",
    "\n",
    "\n",
    "axs[0].set_title(\"Average total population exposed to flooding each year\")\n",
    "axs[1].set_title(\n",
    "    \"Average fraction of population exposed to flooding each year\"\n",
    ")\n",
    "\n",
    "plt.subplots_adjust(wspace=0)"
   ],
   "outputs": []
  },
  {
   "cell_type": "code",
   "execution_count": 18,
   "id": "97882604-f538-44b8-b850-40d404b90a67",
   "metadata": {},
   "source": [
    "cols = [\n",
    "    # \"ADM1_PCODE\",\n",
    "    \"ADM1_EN\",\n",
    "    \"ADM2_PCODE\",\n",
    "    \"ADM2_EN\",\n",
    "    # \"total_pop\",\n",
    "    \"total_exposed\",\n",
    "    \"frac_exposed\",\n",
    "    # \"geometry\",\n",
    "]\n",
    "avg_exposure_plot_aoi[cols].sort_values(\"total_exposed\", ascending=False).iloc[\n",
    "    :10\n",
    "].style.background_gradient(cmap=\"Purples\")"
   ],
   "outputs": []
  },
  {
   "cell_type": "code",
   "execution_count": 244,
   "id": "dc31f459-c16d-4258-8924-cb9030839ff6",
   "metadata": {},
   "source": [
    "cols = [\n",
    "    \"ADM1_PCODE\",\n",
    "    \"ADM1_EN\",\n",
    "    \"ADM2_PCODE\",\n",
    "    \"ADM2_EN\",\n",
    "    \"total_pop\",\n",
    "    \"total_exposed\",\n",
    "    \"frac_exposed\",\n",
    "    # \"geometry\",\n",
    "]\n",
    "filename = \"nga_bay_adm2_average_flood_exposed.csv\"\n",
    "avg_exposure_plot_aoi[cols].sort_values(\n",
    "    \"total_exposed\", ascending=False\n",
    ").to_csv(floodscan.PROC_FS_DIR / filename, index=False)"
   ],
   "outputs": []
  },
  {
   "cell_type": "code",
   "execution_count": 46,
   "id": "237478fc-f9ff-46eb-8111-d80eefe2453e",
   "metadata": {},
   "source": [
    "exposure_raster = floodscan.load_raster_flood_exposures()\n",
    "exposure_raster_aoi = exposure_raster.rio.clip(\n",
    "    adm2_aoi.geometry, all_touched=True\n",
    ")"
   ],
   "outputs": []
  },
  {
   "cell_type": "code",
   "execution_count": 116,
   "id": "fc278d4d-96e2-49f1-8a4c-088446c7cf9b",
   "metadata": {},
   "source": [
    "exposure_raster_aoi_mean = exposure_raster_aoi.mean(dim=\"year\")\n",
    "exposure_raster_aoi_mean = exposure_raster_aoi_mean.where(\n",
    "    exposure_raster_aoi_mean > 5\n",
    ")"
   ],
   "outputs": []
  },
  {
   "cell_type": "code",
   "execution_count": 141,
   "id": "61540884-14e4-4171-b757-fc328e13194e",
   "metadata": {},
   "source": [
    "fig, axs = plt.subplots(nrows=1, ncols=3, figsize=(20, 20))\n",
    "\n",
    "# pop\n",
    "pop_aoi.plot(ax=axs[0], cmap=\"Greys\", vmax=1000, add_colorbar=False)\n",
    "axs[0].set_title(\"Population, 2020\")\n",
    "\n",
    "# flooding\n",
    "fs_aoi_mean.plot(ax=axs[1], cmap=\"Blues\", add_colorbar=False)\n",
    "axs[1].set_title(\"Mean of maximum yearly flooded fraction, 1998-2023\")\n",
    "\n",
    "# exposure\n",
    "exposure_raster_aoi_mean.plot(\n",
    "    ax=axs[2], cmap=\"Purples\", vmax=100, add_colorbar=False\n",
    ")\n",
    "axs[2].set_title(\"Average population exposued to flooding, 1998-2023\")\n",
    "\n",
    "for ax in axs:\n",
    "    adm2_aoi.boundary.plot(ax=ax, linewidth=0.2, color=\"k\")\n",
    "    ax.axis(\"off\")\n",
    "\n",
    "plt.subplots_adjust(wspace=0.2)"
   ],
   "outputs": []
  },
  {
   "cell_type": "code",
   "execution_count": 25,
   "id": "2c5581ab-771c-4d12-8566-08e1148361ce",
   "metadata": {},
   "source": [
    "exposure_raster_df = exposure_raster.to_dataframe(\"pop_exposed\")[\n",
    "    \"pop_exposed\"\n",
    "].reset_index()"
   ],
   "outputs": []
  },
  {
   "cell_type": "code",
   "execution_count": 28,
   "id": "3ef3665b-4b2f-4e05-8dd5-663ae44d5ed9",
   "metadata": {},
   "source": [
    "exposure_raster_df"
   ],
   "outputs": []
  },
  {
   "cell_type": "code",
   "execution_count": null,
   "id": "5e93c6ec-ff42-41d0-8f29-56ce74153dd5",
   "metadata": {},
   "source": [],
   "outputs": []
  }
 ],
 "metadata": {
  "jupytext": {
   "formats": "ipynb,md"
  },
  "kernelspec": {
   "display_name": "ds-aa-nga-flooding",
   "language": "python",
   "name": "ds-aa-nga-flooding"
  },
  "language_info": {
   "codemirror_mode": {
    "name": "ipython",
    "version": 3
   },
   "file_extension": ".py",
   "mimetype": "text/x-python",
   "name": "python",
   "nbconvert_exporter": "python",
   "pygments_lexer": "ipython3",
   "version": "3.11.4"
  }
 },
 "nbformat": 4,
 "nbformat_minor": 5
}
