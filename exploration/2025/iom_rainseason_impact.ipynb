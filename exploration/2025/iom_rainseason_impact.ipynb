{
 "cells": [
  {
   "cell_type": "markdown",
   "id": "e0624a2b-0d65-4f6e-a273-c3287fe5e37f",
   "metadata": {},
   "source": [
    "# IOM rain season flood data"
   ]
  },
  {
   "cell_type": "code",
   "execution_count": 1,
   "id": "33b2c367-4faa-409a-8251-1b4f37aec548",
   "metadata": {},
   "outputs": [
    {
     "data": {
      "text/html": [
       "\n",
       "                <script type=\"application/javascript\" id=\"jupyter_black\">\n",
       "                (function() {\n",
       "                    if (window.IPython === undefined) {\n",
       "                        return\n",
       "                    }\n",
       "                    var msg = \"WARNING: it looks like you might have loaded \" +\n",
       "                        \"jupyter_black in a non-lab notebook with \" +\n",
       "                        \"`is_lab=True`. Please double check, and if \" +\n",
       "                        \"loading with `%load_ext` please review the README!\"\n",
       "                    console.log(msg)\n",
       "                    alert(msg)\n",
       "                })()\n",
       "                </script>\n",
       "                "
      ],
      "text/plain": [
       "<IPython.core.display.HTML object>"
      ]
     },
     "metadata": {},
     "output_type": "display_data"
    }
   ],
   "source": [
    "%load_ext jupyter_black\n",
    "%load_ext autoreload\n",
    "%autoreload 2"
   ]
  },
  {
   "cell_type": "code",
   "execution_count": 10,
   "id": "a09e4f16-a43d-49fd-91bc-815c1336b052",
   "metadata": {},
   "outputs": [],
   "source": [
    "from thefuzz import process\n",
    "\n",
    "from src.datasources import codab\n",
    "from src.utils import blob\n",
    "from src.constants import *"
   ]
  },
  {
   "cell_type": "code",
   "execution_count": 3,
   "id": "669416e7-5f33-4d4c-8fa2-e7ac22735f39",
   "metadata": {},
   "outputs": [],
   "source": [
    "adm2 = codab.load_codab_from_blob(aoi_only=True, admin_level=2)"
   ]
  },
  {
   "cell_type": "code",
   "execution_count": 4,
   "id": "4dc10339-7b07-4d91-89af-e611af08d23c",
   "metadata": {},
   "outputs": [
    {
     "data": {
      "text/html": [
       "<div>\n",
       "<style scoped>\n",
       "    .dataframe tbody tr th:only-of-type {\n",
       "        vertical-align: middle;\n",
       "    }\n",
       "\n",
       "    .dataframe tbody tr th {\n",
       "        vertical-align: top;\n",
       "    }\n",
       "\n",
       "    .dataframe thead th {\n",
       "        text-align: right;\n",
       "    }\n",
       "</style>\n",
       "<table border=\"1\" class=\"dataframe\">\n",
       "  <thead>\n",
       "    <tr style=\"text-align: right;\">\n",
       "      <th></th>\n",
       "      <th>ADM2_EN</th>\n",
       "      <th>ADM2_PCODE</th>\n",
       "      <th>ADM1_EN</th>\n",
       "      <th>ADM1_PCODE</th>\n",
       "      <th>ADM0_EN</th>\n",
       "      <th>ADM0_PCODE</th>\n",
       "      <th>DATE</th>\n",
       "      <th>VALIDON</th>\n",
       "      <th>VALIDTO</th>\n",
       "      <th>geometry</th>\n",
       "    </tr>\n",
       "  </thead>\n",
       "  <tbody>\n",
       "    <tr>\n",
       "      <th>2</th>\n",
       "      <td>Abadam</td>\n",
       "      <td>NG008001</td>\n",
       "      <td>Borno</td>\n",
       "      <td>NG008</td>\n",
       "      <td>Nigeria</td>\n",
       "      <td>NG</td>\n",
       "      <td>2017-03-31</td>\n",
       "      <td>2019-04-17</td>\n",
       "      <td>None</td>\n",
       "      <td>POLYGON ((13.11029 13.10963, 13.10815 13.11404...</td>\n",
       "    </tr>\n",
       "    <tr>\n",
       "      <th>68</th>\n",
       "      <td>Askira/Uba</td>\n",
       "      <td>NG008002</td>\n",
       "      <td>Borno</td>\n",
       "      <td>NG008</td>\n",
       "      <td>Nigeria</td>\n",
       "      <td>NG</td>\n",
       "      <td>2017-03-31</td>\n",
       "      <td>2019-04-17</td>\n",
       "      <td>None</td>\n",
       "      <td>POLYGON ((13.09852 10.44508, 13.09352 10.44667...</td>\n",
       "    </tr>\n",
       "    <tr>\n",
       "      <th>82</th>\n",
       "      <td>Bade</td>\n",
       "      <td>NG036001</td>\n",
       "      <td>Yobe</td>\n",
       "      <td>NG036</td>\n",
       "      <td>Nigeria</td>\n",
       "      <td>NG</td>\n",
       "      <td>2017-03-31</td>\n",
       "      <td>2019-04-17</td>\n",
       "      <td>None</td>\n",
       "      <td>MULTIPOLYGON (((11.18769 12.50815, 11.18360 12...</td>\n",
       "    </tr>\n",
       "    <tr>\n",
       "      <th>90</th>\n",
       "      <td>Bama</td>\n",
       "      <td>NG008003</td>\n",
       "      <td>Borno</td>\n",
       "      <td>NG008</td>\n",
       "      <td>Nigeria</td>\n",
       "      <td>NG</td>\n",
       "      <td>2017-03-31</td>\n",
       "      <td>2019-04-17</td>\n",
       "      <td>None</td>\n",
       "      <td>POLYGON ((13.99056 11.31251, 13.97581 11.30513...</td>\n",
       "    </tr>\n",
       "    <tr>\n",
       "      <th>99</th>\n",
       "      <td>Bayo</td>\n",
       "      <td>NG008004</td>\n",
       "      <td>Borno</td>\n",
       "      <td>NG008</td>\n",
       "      <td>Nigeria</td>\n",
       "      <td>NG</td>\n",
       "      <td>2017-03-31</td>\n",
       "      <td>2019-04-17</td>\n",
       "      <td>None</td>\n",
       "      <td>POLYGON ((11.65688 10.19681, 11.60128 10.20806...</td>\n",
       "    </tr>\n",
       "    <tr>\n",
       "      <th>...</th>\n",
       "      <td>...</td>\n",
       "      <td>...</td>\n",
       "      <td>...</td>\n",
       "      <td>...</td>\n",
       "      <td>...</td>\n",
       "      <td>...</td>\n",
       "      <td>...</td>\n",
       "      <td>...</td>\n",
       "      <td>...</td>\n",
       "      <td>...</td>\n",
       "    </tr>\n",
       "    <tr>\n",
       "      <th>709</th>\n",
       "      <td>Toungo</td>\n",
       "      <td>NG002019</td>\n",
       "      <td>Adamawa</td>\n",
       "      <td>NG002</td>\n",
       "      <td>Nigeria</td>\n",
       "      <td>NG</td>\n",
       "      <td>2017-03-31</td>\n",
       "      <td>2019-04-17</td>\n",
       "      <td>None</td>\n",
       "      <td>POLYGON ((12.21046 7.97042, 12.20300 7.96432, ...</td>\n",
       "    </tr>\n",
       "    <tr>\n",
       "      <th>762</th>\n",
       "      <td>Yola North</td>\n",
       "      <td>NG002020</td>\n",
       "      <td>Adamawa</td>\n",
       "      <td>NG002</td>\n",
       "      <td>Nigeria</td>\n",
       "      <td>NG</td>\n",
       "      <td>2017-03-31</td>\n",
       "      <td>2019-04-17</td>\n",
       "      <td>None</td>\n",
       "      <td>POLYGON ((12.40447 9.25767, 12.40226 9.26307, ...</td>\n",
       "    </tr>\n",
       "    <tr>\n",
       "      <th>763</th>\n",
       "      <td>Yola South</td>\n",
       "      <td>NG002021</td>\n",
       "      <td>Adamawa</td>\n",
       "      <td>NG002</td>\n",
       "      <td>Nigeria</td>\n",
       "      <td>NG</td>\n",
       "      <td>2017-03-31</td>\n",
       "      <td>2019-04-17</td>\n",
       "      <td>None</td>\n",
       "      <td>POLYGON ((12.43708 9.21300, 12.43732 9.21285, ...</td>\n",
       "    </tr>\n",
       "    <tr>\n",
       "      <th>765</th>\n",
       "      <td>Yunusari</td>\n",
       "      <td>NG036016</td>\n",
       "      <td>Yobe</td>\n",
       "      <td>NG036</td>\n",
       "      <td>Nigeria</td>\n",
       "      <td>NG</td>\n",
       "      <td>2017-03-31</td>\n",
       "      <td>2019-04-17</td>\n",
       "      <td>None</td>\n",
       "      <td>POLYGON ((12.13949 13.09935, 12.14254 13.09896...</td>\n",
       "    </tr>\n",
       "    <tr>\n",
       "      <th>766</th>\n",
       "      <td>Yusufari</td>\n",
       "      <td>NG036017</td>\n",
       "      <td>Yobe</td>\n",
       "      <td>NG036</td>\n",
       "      <td>Nigeria</td>\n",
       "      <td>NG</td>\n",
       "      <td>2017-03-31</td>\n",
       "      <td>2019-04-17</td>\n",
       "      <td>None</td>\n",
       "      <td>POLYGON ((11.32417 13.15145, 11.32829 13.14117...</td>\n",
       "    </tr>\n",
       "  </tbody>\n",
       "</table>\n",
       "<p>65 rows × 10 columns</p>\n",
       "</div>"
      ],
      "text/plain": [
       "        ADM2_EN ADM2_PCODE  ADM1_EN ADM1_PCODE  ADM0_EN ADM0_PCODE  \\\n",
       "2        Abadam   NG008001    Borno      NG008  Nigeria         NG   \n",
       "68   Askira/Uba   NG008002    Borno      NG008  Nigeria         NG   \n",
       "82         Bade   NG036001     Yobe      NG036  Nigeria         NG   \n",
       "90         Bama   NG008003    Borno      NG008  Nigeria         NG   \n",
       "99         Bayo   NG008004    Borno      NG008  Nigeria         NG   \n",
       "..          ...        ...      ...        ...      ...        ...   \n",
       "709      Toungo   NG002019  Adamawa      NG002  Nigeria         NG   \n",
       "762  Yola North   NG002020  Adamawa      NG002  Nigeria         NG   \n",
       "763  Yola South   NG002021  Adamawa      NG002  Nigeria         NG   \n",
       "765    Yunusari   NG036016     Yobe      NG036  Nigeria         NG   \n",
       "766    Yusufari   NG036017     Yobe      NG036  Nigeria         NG   \n",
       "\n",
       "           DATE     VALIDON VALIDTO  \\\n",
       "2    2017-03-31  2019-04-17    None   \n",
       "68   2017-03-31  2019-04-17    None   \n",
       "82   2017-03-31  2019-04-17    None   \n",
       "90   2017-03-31  2019-04-17    None   \n",
       "99   2017-03-31  2019-04-17    None   \n",
       "..          ...         ...     ...   \n",
       "709  2017-03-31  2019-04-17    None   \n",
       "762  2017-03-31  2019-04-17    None   \n",
       "763  2017-03-31  2019-04-17    None   \n",
       "765  2017-03-31  2019-04-17    None   \n",
       "766  2017-03-31  2019-04-17    None   \n",
       "\n",
       "                                              geometry  \n",
       "2    POLYGON ((13.11029 13.10963, 13.10815 13.11404...  \n",
       "68   POLYGON ((13.09852 10.44508, 13.09352 10.44667...  \n",
       "82   MULTIPOLYGON (((11.18769 12.50815, 11.18360 12...  \n",
       "90   POLYGON ((13.99056 11.31251, 13.97581 11.30513...  \n",
       "99   POLYGON ((11.65688 10.19681, 11.60128 10.20806...  \n",
       "..                                                 ...  \n",
       "709  POLYGON ((12.21046 7.97042, 12.20300 7.96432, ...  \n",
       "762  POLYGON ((12.40447 9.25767, 12.40226 9.26307, ...  \n",
       "763  POLYGON ((12.43708 9.21300, 12.43732 9.21285, ...  \n",
       "765  POLYGON ((12.13949 13.09935, 12.14254 13.09896...  \n",
       "766  POLYGON ((11.32417 13.15145, 11.32829 13.14117...  \n",
       "\n",
       "[65 rows x 10 columns]"
      ]
     },
     "execution_count": 4,
     "metadata": {},
     "output_type": "execute_result"
    }
   ],
   "source": [
    "adm2"
   ]
  },
  {
   "cell_type": "code",
   "execution_count": 45,
   "id": "46e19830-1a84-4db6-883b-910837a0024d",
   "metadata": {},
   "outputs": [],
   "source": [
    "adm2[\"ADM2_EN_lower\"] = adm2[\"ADM2_EN\"].str.lower()"
   ]
  },
  {
   "cell_type": "code",
   "execution_count": 6,
   "id": "8d74dff8-a8b1-481c-82c6-352b38793ef7",
   "metadata": {},
   "outputs": [],
   "source": [
    "blob_name = (\n",
    "    f\"{blob.PROJECT_PREFIX}/raw/impact/iom/Rain season historical data.xlsx\"\n",
    ")"
   ]
  },
  {
   "cell_type": "code",
   "execution_count": 50,
   "id": "d03d0006-d312-4601-a040-cd1fb1e8569b",
   "metadata": {},
   "outputs": [],
   "source": [
    "df = blob.load_excel_from_blob(blob_name)"
   ]
  },
  {
   "cell_type": "code",
   "execution_count": 51,
   "id": "a1c3a2ab-c814-4b3a-a8d4-aba79fc96d06",
   "metadata": {},
   "outputs": [],
   "source": [
    "df[\"LGA_lower\"] = df[\"LGA\"].str.lower()"
   ]
  },
  {
   "cell_type": "code",
   "execution_count": 52,
   "id": "4e965063-c08d-4d5c-97e4-2283b146afe8",
   "metadata": {},
   "outputs": [
    {
     "data": {
      "text/plain": [
       "True"
      ]
     },
     "execution_count": 52,
     "metadata": {},
     "output_type": "execute_result"
    }
   ],
   "source": [
    "\"abadam\" in adm2[\"ADM2_EN\"].str.lower().to_list()"
   ]
  },
  {
   "cell_type": "code",
   "execution_count": 53,
   "id": "2ee3605f-9512-4c4f-a51c-abfba81f807b",
   "metadata": {},
   "outputs": [],
   "source": [
    "matches_dict = {\n",
    "    \"maiduguri m. c.\": \"maiduguri\",\n",
    "    \"kala balge\": \"kala/balge\",\n",
    "    \"tarmuwa\": \"tarmua\",\n",
    "}"
   ]
  },
  {
   "cell_type": "code",
   "execution_count": 55,
   "id": "ee43825c-e3cd-4811-89a9-41e5f7cdb570",
   "metadata": {},
   "outputs": [],
   "source": [
    "for lga in df[\"LGA_lower\"].unique():\n",
    "    if not (lga in adm2[\"ADM2_EN_lower\"].to_list() or lga in matches_dict):\n",
    "        matches = process.extract(\n",
    "            lga, adm2[\"ADM2_EN_lower\"].to_list(), limit=5\n",
    "        )\n",
    "        print(lga)\n",
    "        print(matches)\n",
    "        break"
   ]
  },
  {
   "cell_type": "code",
   "execution_count": 56,
   "id": "9a4f85b2-7747-4774-9583-0ecfc6cb1aa5",
   "metadata": {},
   "outputs": [],
   "source": [
    "df[\"ADM2_EN_lower\"] = df[\"LGA\"].str.lower().replace(matches_dict)"
   ]
  },
  {
   "cell_type": "code",
   "execution_count": 64,
   "id": "465e742a-83ac-40a5-a2db-62338c4e78cc",
   "metadata": {},
   "outputs": [],
   "source": [
    "df_matched = df.merge(adm2[[\"ADM2_EN_lower\", \"ADM2_PCODE\", \"ADM2_EN\"]])"
   ]
  },
  {
   "cell_type": "code",
   "execution_count": 65,
   "id": "5273892c-a0ba-480e-8fe6-d68d8c7ffb5b",
   "metadata": {},
   "outputs": [
    {
     "data": {
      "text/html": [
       "<div>\n",
       "<style scoped>\n",
       "    .dataframe tbody tr th:only-of-type {\n",
       "        vertical-align: middle;\n",
       "    }\n",
       "\n",
       "    .dataframe tbody tr th {\n",
       "        vertical-align: top;\n",
       "    }\n",
       "\n",
       "    .dataframe thead th {\n",
       "        text-align: right;\n",
       "    }\n",
       "</style>\n",
       "<table border=\"1\" class=\"dataframe\">\n",
       "  <thead>\n",
       "    <tr style=\"text-align: right;\">\n",
       "      <th></th>\n",
       "      <th>S/N</th>\n",
       "      <th>AGENCY</th>\n",
       "      <th>STATE</th>\n",
       "      <th>LGA</th>\n",
       "      <th>Ward</th>\n",
       "      <th>Site ID</th>\n",
       "      <th>SITE NAME</th>\n",
       "      <th>Latitude</th>\n",
       "      <th>Longitude</th>\n",
       "      <th>Site Type</th>\n",
       "      <th>...</th>\n",
       "      <th>#IND affected</th>\n",
       "      <th>Death</th>\n",
       "      <th>Source of livelihood\\nLost</th>\n",
       "      <th>Houses\\nDestroyed</th>\n",
       "      <th>Food Stuff\\nDestroyed</th>\n",
       "      <th>NFI Destroyed</th>\n",
       "      <th>LGA_lower</th>\n",
       "      <th>ADM2_EN_lower</th>\n",
       "      <th>ADM2_PCODE</th>\n",
       "      <th>ADM2_EN</th>\n",
       "    </tr>\n",
       "  </thead>\n",
       "  <tbody>\n",
       "  </tbody>\n",
       "</table>\n",
       "<p>0 rows × 23 columns</p>\n",
       "</div>"
      ],
      "text/plain": [
       "Empty DataFrame\n",
       "Columns: [S/N, AGENCY, STATE, LGA, Ward, Site ID, SITE NAME, Latitude, Longitude, Site Type, TYPE OF INCIDENT, INCIDENT DATE, #HH Affected, #IND affected, Death, Source of livelihood\n",
       "Lost, Houses\n",
       "Destroyed, Food Stuff\n",
       "Destroyed, NFI Destroyed, LGA_lower, ADM2_EN_lower, ADM2_PCODE, ADM2_EN]\n",
       "Index: []\n",
       "\n",
       "[0 rows x 23 columns]"
      ]
     },
     "execution_count": 65,
     "metadata": {},
     "output_type": "execute_result"
    }
   ],
   "source": [
    "df_matched[df_matched[\"ADM2_PCODE\"].isnull()]"
   ]
  },
  {
   "cell_type": "code",
   "execution_count": 69,
   "id": "4ecbfba4-abe4-47ef-a53c-323d4f73ed92",
   "metadata": {},
   "outputs": [
    {
     "data": {
      "text/plain": [
       "S/N                                    int64\n",
       "AGENCY                                object\n",
       "STATE                                 object\n",
       "LGA                                   object\n",
       "Ward                                  object\n",
       "Site ID                               object\n",
       "SITE NAME                             object\n",
       "Latitude                             float64\n",
       "Longitude                            float64\n",
       "Site Type                             object\n",
       "TYPE OF INCIDENT                      object\n",
       "INCIDENT DATE                 datetime64[ns]\n",
       "#HH Affected                         float64\n",
       "#IND affected                        float64\n",
       "Death                                float64\n",
       "Source of livelihood\\nLost           float64\n",
       "Houses\\nDestroyed                    float64\n",
       "Food Stuff\\nDestroyed                float64\n",
       "NFI Destroyed                        float64\n",
       "LGA_lower                             object\n",
       "ADM2_EN_lower                         object\n",
       "ADM2_PCODE                            object\n",
       "ADM2_EN                               object\n",
       "dtype: object"
      ]
     },
     "execution_count": 69,
     "metadata": {},
     "output_type": "execute_result"
    }
   ],
   "source": [
    "df_matched.dtypes"
   ]
  },
  {
   "cell_type": "code",
   "execution_count": 70,
   "id": "4f60ff83-f48c-459c-b3a5-89a09f27fc98",
   "metadata": {},
   "outputs": [
    {
     "data": {
      "text/plain": [
       "Index(['S/N', 'AGENCY', 'STATE', 'LGA', 'Ward', 'Site ID', 'SITE NAME',\n",
       "       'Latitude', 'Longitude', 'Site Type', 'TYPE OF INCIDENT',\n",
       "       'INCIDENT DATE', '#HH Affected', '#IND affected', 'Death',\n",
       "       'Source of livelihood\\nLost', 'Houses\\nDestroyed',\n",
       "       'Food Stuff\\nDestroyed', 'NFI Destroyed', 'LGA_lower', 'ADM2_EN_lower',\n",
       "       'ADM2_PCODE', 'ADM2_EN'],\n",
       "      dtype='object')"
      ]
     },
     "execution_count": 70,
     "metadata": {},
     "output_type": "execute_result"
    }
   ],
   "source": [
    "df_matched.columns"
   ]
  },
  {
   "cell_type": "code",
   "execution_count": 74,
   "id": "b222ab0c-8562-4f48-b092-f7ba9eb951af",
   "metadata": {},
   "outputs": [
    {
     "data": {
      "text/plain": [
       "<Axes: >"
      ]
     },
     "execution_count": 74,
     "metadata": {},
     "output_type": "execute_result"
    },
    {
     "data": {
      "image/png": "[encoded data removed]",
      "text/plain": [
       "<Figure size 640x480 with 1 Axes>"
      ]
     },
     "metadata": {},
     "output_type": "display_data"
    }
   ],
   "source": [
    "df_matched[\"INCIDENT DATE\"].dt.dayofyear.hist()"
   ]
  },
  {
   "cell_type": "code",
   "execution_count": 77,
   "id": "456e852c-27b4-4ca3-ac2f-c40dabf9838b",
   "metadata": {},
   "outputs": [
    {
     "data": {
      "text/plain": [
       "Timestamp('2021-06-11 00:00:00')"
      ]
     },
     "execution_count": 77,
     "metadata": {},
     "output_type": "execute_result"
    }
   ],
   "source": [
    "df_matched[\"INCIDENT DATE\"].min()"
   ]
  },
  {
   "cell_type": "code",
   "execution_count": 78,
   "id": "bf617734-b0c4-44f9-b1b8-0fbd88f7f9c3",
   "metadata": {},
   "outputs": [
    {
     "data": {
      "text/plain": [
       "Timestamp('2024-12-06 00:00:00')"
      ]
     },
     "execution_count": 78,
     "metadata": {},
     "output_type": "execute_result"
    }
   ],
   "source": [
    "df_matched[\"INCIDENT DATE\"].max()"
   ]
  },
  {
   "cell_type": "code",
   "execution_count": 80,
   "id": "abbe2adb-e972-485c-b6d1-c17ee0e190a5",
   "metadata": {},
   "outputs": [],
   "source": [
    "blob_name = f\"{blob.PROJECT_PREFIX}/processed/iom/rainseason_2021_2024.parquet\""
   ]
  },
  {
   "cell_type": "code",
   "execution_count": 81,
   "id": "d8c0e299-09af-4e45-9c95-99c662bf1ad8",
   "metadata": {},
   "outputs": [],
   "source": [
    "blob.upload_parquet_to_blob(blob_name, df_matched)"
   ]
  }
 ],
 "metadata": {
  "jupytext": {
   "formats": "ipynb,md"
  },
  "kernelspec": {
   "display_name": "ds-aa-nga-flooding",
   "language": "python",
   "name": "ds-aa-nga-flooding"
  },
  "language_info": {
   "codemirror_mode": {
    "name": "ipython",
    "version": 3
   },
   "file_extension": ".py",
   "mimetype": "text/x-python",
   "name": "python",
   "nbconvert_exporter": "python",
   "pygments_lexer": "ipython3",
   "version": "3.11.4"
  }
 },
 "nbformat": 4,
 "nbformat_minor": 5
}
