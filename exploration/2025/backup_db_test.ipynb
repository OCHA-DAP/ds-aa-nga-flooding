{
 "cells": [
  {
   "cell_type": "markdown",
   "id": "f299b2c8-4bb5-426b-8b44-753f154a2bfc",
   "metadata": {},
   "source": [
    "# Backup DB test"
   ]
  },
  {
   "cell_type": "code",
   "execution_count": 1,
   "id": "b8ea97b9-6f7d-4c9b-917a-24640cdc56a3",
   "metadata": {},
   "outputs": [
    {
     "data": {
      "text/html": [
       "\n",
       "                <script type=\"application/javascript\" id=\"jupyter_black\">\n",
       "                (function() {\n",
       "                    if (window.IPython === undefined) {\n",
       "                        return\n",
       "                    }\n",
       "                    var msg = \"WARNING: it looks like you might have loaded \" +\n",
       "                        \"jupyter_black in a non-lab notebook with \" +\n",
       "                        \"`is_lab=True`. Please double check, and if \" +\n",
       "                        \"loading with `%load_ext` please review the README!\"\n",
       "                    console.log(msg)\n",
       "                    alert(msg)\n",
       "                })()\n",
       "                </script>\n",
       "                "
      ],
      "text/plain": [
       "<IPython.core.display.HTML object>"
      ]
     },
     "metadata": {},
     "output_type": "display_data"
    }
   ],
   "source": [
    "%load_ext jupyter_black\n",
    "%load_ext autoreload\n",
    "%autoreload 2"
   ]
  },
  {
   "cell_type": "code",
   "execution_count": 10,
   "id": "68c5cfe3-e802-45e7-b288-6efece428ed0",
   "metadata": {},
   "outputs": [],
   "source": [
    "import os\n",
    "\n",
    "import pandas as pd\n",
    "from sqlalchemy import create_engine"
   ]
  },
  {
   "cell_type": "code",
   "execution_count": 8,
   "id": "03f72785-107f-4e48-8685-ac28a94dc7a9",
   "metadata": {},
   "outputs": [],
   "source": [
    "AZURE_DB_BASE_URL = \"postgresql+psycopg2://{uid}:{pw}@{host}/postgres\"\n",
    "\n",
    "\n",
    "def get_backup_db(write: bool = False):\n",
    "    if write:\n",
    "        url = AZURE_DB_BASE_URL.format(\n",
    "            uid=os.getenv(\"DSCI_AZ_DB_DEV_UID_WRITE\"),\n",
    "            pw=os.getenv(\"DSCI_AZ_DB_DEV_PW_WRITE\"),\n",
    "            host=\"chd-rasterstats-dev2.postgres.database.azure.com\",\n",
    "        )\n",
    "    else:\n",
    "        url = AZURE_DB_BASE_URL.format(\n",
    "            uid=os.getenv(\"DSCI_AZ_DB_DEV_UID\"),\n",
    "            pw=os.getenv(\"DSCI_AZ_DB_DEV_PW\"),\n",
    "            host=\"chd-rasterstats-dev2.postgres.database.azure.com\",\n",
    "        )\n",
    "    return create_engine(url)"
   ]
  },
  {
   "cell_type": "code",
   "execution_count": 9,
   "id": "355124e1-cd58-40f5-843f-1fbede66ca45",
   "metadata": {},
   "outputs": [],
   "source": [
    "query = \"\"\"\n",
    "SELECT *\n",
    "FROM projects.ds_aa_nga_flooding_monitoring\n",
    "LIMIT 100\n",
    "\"\"\""
   ]
  },
  {
   "cell_type": "code",
   "execution_count": 11,
   "id": "dd814fb9-37ac-4352-ae1c-41c0277a3fd7",
   "metadata": {},
   "outputs": [],
   "source": [
    "df = pd.read_sql(query, get_backup_db())"
   ]
  },
  {
   "cell_type": "code",
   "execution_count": 12,
   "id": "1afffdcc-ce8c-41cd-a283-c4a17347c5a9",
   "metadata": {},
   "outputs": [
    {
     "data": {
      "text/html": [
       "<div>\n",
       "<style scoped>\n",
       "    .dataframe tbody tr th:only-of-type {\n",
       "        vertical-align: middle;\n",
       "    }\n",
       "\n",
       "    .dataframe tbody tr th {\n",
       "        vertical-align: top;\n",
       "    }\n",
       "\n",
       "    .dataframe thead th {\n",
       "        text-align: right;\n",
       "    }\n",
       "</style>\n",
       "<table border=\"1\" class=\"dataframe\">\n",
       "  <thead>\n",
       "    <tr style=\"text-align: right;\">\n",
       "      <th></th>\n",
       "      <th>issued_time</th>\n",
       "      <th>value</th>\n",
       "      <th>src</th>\n",
       "      <th>monitoring_date</th>\n",
       "      <th>issued_date</th>\n",
       "      <th>valid_date</th>\n",
       "    </tr>\n",
       "  </thead>\n",
       "  <tbody>\n",
       "    <tr>\n",
       "      <th>0</th>\n",
       "      <td>NaT</td>\n",
       "      <td>1353.250000</td>\n",
       "      <td>glofas_forecast_wuroboki</td>\n",
       "      <td>2024-09-10</td>\n",
       "      <td>2024-09-10</td>\n",
       "      <td>2024-09-10</td>\n",
       "    </tr>\n",
       "    <tr>\n",
       "      <th>1</th>\n",
       "      <td>NaT</td>\n",
       "      <td>1328.546875</td>\n",
       "      <td>glofas_forecast_wuroboki</td>\n",
       "      <td>2024-09-10</td>\n",
       "      <td>2024-09-10</td>\n",
       "      <td>2024-09-11</td>\n",
       "    </tr>\n",
       "    <tr>\n",
       "      <th>2</th>\n",
       "      <td>NaT</td>\n",
       "      <td>1339.046875</td>\n",
       "      <td>glofas_forecast_wuroboki</td>\n",
       "      <td>2024-09-10</td>\n",
       "      <td>2024-09-10</td>\n",
       "      <td>2024-09-12</td>\n",
       "    </tr>\n",
       "    <tr>\n",
       "      <th>3</th>\n",
       "      <td>NaT</td>\n",
       "      <td>1381.218750</td>\n",
       "      <td>glofas_forecast_wuroboki</td>\n",
       "      <td>2024-09-10</td>\n",
       "      <td>2024-09-10</td>\n",
       "      <td>2024-09-13</td>\n",
       "    </tr>\n",
       "    <tr>\n",
       "      <th>4</th>\n",
       "      <td>NaT</td>\n",
       "      <td>1430.203125</td>\n",
       "      <td>glofas_forecast_wuroboki</td>\n",
       "      <td>2024-09-10</td>\n",
       "      <td>2024-09-10</td>\n",
       "      <td>2024-09-14</td>\n",
       "    </tr>\n",
       "    <tr>\n",
       "      <th>...</th>\n",
       "      <td>...</td>\n",
       "      <td>...</td>\n",
       "      <td>...</td>\n",
       "      <td>...</td>\n",
       "      <td>...</td>\n",
       "      <td>...</td>\n",
       "    </tr>\n",
       "    <tr>\n",
       "      <th>95</th>\n",
       "      <td>2025-07-30 20:13:05.984602+00:00</td>\n",
       "      <td>416.576263</td>\n",
       "      <td>grrr_hybas_1120842550</td>\n",
       "      <td>2025-07-30</td>\n",
       "      <td>2025-07-30</td>\n",
       "      <td>2025-08-01</td>\n",
       "    </tr>\n",
       "    <tr>\n",
       "      <th>96</th>\n",
       "      <td>2025-07-30 20:13:05.984602+00:00</td>\n",
       "      <td>431.026001</td>\n",
       "      <td>grrr_hybas_1120842550</td>\n",
       "      <td>2025-07-30</td>\n",
       "      <td>2025-07-30</td>\n",
       "      <td>2025-08-02</td>\n",
       "    </tr>\n",
       "    <tr>\n",
       "      <th>97</th>\n",
       "      <td>2025-07-30 20:13:05.984602+00:00</td>\n",
       "      <td>448.145447</td>\n",
       "      <td>grrr_hybas_1120842550</td>\n",
       "      <td>2025-07-30</td>\n",
       "      <td>2025-07-30</td>\n",
       "      <td>2025-08-03</td>\n",
       "    </tr>\n",
       "    <tr>\n",
       "      <th>98</th>\n",
       "      <td>2025-07-30 20:13:05.984602+00:00</td>\n",
       "      <td>462.664734</td>\n",
       "      <td>grrr_hybas_1120842550</td>\n",
       "      <td>2025-07-30</td>\n",
       "      <td>2025-07-30</td>\n",
       "      <td>2025-08-04</td>\n",
       "    </tr>\n",
       "    <tr>\n",
       "      <th>99</th>\n",
       "      <td>2025-07-30 20:13:05.984602+00:00</td>\n",
       "      <td>469.295349</td>\n",
       "      <td>grrr_hybas_1120842550</td>\n",
       "      <td>2025-07-30</td>\n",
       "      <td>2025-07-30</td>\n",
       "      <td>2025-08-05</td>\n",
       "    </tr>\n",
       "  </tbody>\n",
       "</table>\n",
       "<p>100 rows × 6 columns</p>\n",
       "</div>"
      ],
      "text/plain": [
       "                        issued_time        value                       src  \\\n",
       "0                               NaT  1353.250000  glofas_forecast_wuroboki   \n",
       "1                               NaT  1328.546875  glofas_forecast_wuroboki   \n",
       "2                               NaT  1339.046875  glofas_forecast_wuroboki   \n",
       "3                               NaT  1381.218750  glofas_forecast_wuroboki   \n",
       "4                               NaT  1430.203125  glofas_forecast_wuroboki   \n",
       "..                              ...          ...                       ...   \n",
       "95 2025-07-30 20:13:05.984602+00:00   416.576263     grrr_hybas_1120842550   \n",
       "96 2025-07-30 20:13:05.984602+00:00   431.026001     grrr_hybas_1120842550   \n",
       "97 2025-07-30 20:13:05.984602+00:00   448.145447     grrr_hybas_1120842550   \n",
       "98 2025-07-30 20:13:05.984602+00:00   462.664734     grrr_hybas_1120842550   \n",
       "99 2025-07-30 20:13:05.984602+00:00   469.295349     grrr_hybas_1120842550   \n",
       "\n",
       "   monitoring_date issued_date  valid_date  \n",
       "0       2024-09-10  2024-09-10  2024-09-10  \n",
       "1       2024-09-10  2024-09-10  2024-09-11  \n",
       "2       2024-09-10  2024-09-10  2024-09-12  \n",
       "3       2024-09-10  2024-09-10  2024-09-13  \n",
       "4       2024-09-10  2024-09-10  2024-09-14  \n",
       "..             ...         ...         ...  \n",
       "95      2025-07-30  2025-07-30  2025-08-01  \n",
       "96      2025-07-30  2025-07-30  2025-08-02  \n",
       "97      2025-07-30  2025-07-30  2025-08-03  \n",
       "98      2025-07-30  2025-07-30  2025-08-04  \n",
       "99      2025-07-30  2025-07-30  2025-08-05  \n",
       "\n",
       "[100 rows x 6 columns]"
      ]
     },
     "execution_count": 12,
     "metadata": {},
     "output_type": "execute_result"
    }
   ],
   "source": [
    "df"
   ]
  }
 ],
 "metadata": {
  "jupytext": {
   "formats": "ipynb,md"
  },
  "kernelspec": {
   "display_name": "ds-aa-nga-flooding",
   "language": "python",
   "name": "ds-aa-nga-flooding"
  },
  "language_info": {
   "codemirror_mode": {
    "name": "ipython",
    "version": 3
   },
   "file_extension": ".py",
   "mimetype": "text/x-python",
   "name": "python",
   "nbconvert_exporter": "python",
   "pygments_lexer": "ipython3",
   "version": "3.11.4"
  }
 },
 "nbformat": 4,
 "nbformat_minor": 5
}
